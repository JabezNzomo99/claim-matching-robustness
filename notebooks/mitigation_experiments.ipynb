{
 "cells": [
  {
   "cell_type": "code",
   "execution_count": 17,
   "metadata": {},
   "outputs": [],
   "source": [
    "import pandas as pd\n",
    "from claimrobustness import utils\n",
    "pd.set_option('display.max_colwidth', None)"
   ]
  },
  {
   "cell_type": "code",
   "execution_count": 18,
   "metadata": {},
   "outputs": [],
   "source": [
    "# Load the datasets and look at the number of tweets from check that and matching applicable tweets\n",
    "checkthat_dataset_str = 'clef2021-checkthat-task2a--english'\n",
    "factcheck_dataset_str = 'fact-check-tweet'"
   ]
  },
  {
   "cell_type": "code",
   "execution_count": 19,
   "metadata": {},
   "outputs": [],
   "source": [
    "check_that_data = utils.load_data(dataset=checkthat_dataset_str)\n",
    "check_that_train_queries = check_that_data['queries'][0]\n",
    "check_that_dev_queries = check_that_data['queries'][1]"
   ]
  },
  {
   "cell_type": "code",
   "execution_count": 20,
   "metadata": {},
   "outputs": [
    {
     "data": {
      "text/plain": [
       "((1195, 2), (1195, 2))"
      ]
     },
     "execution_count": 20,
     "metadata": {},
     "output_type": "execute_result"
    }
   ],
   "source": [
    "check_that_train_queries.shape, check_that_dev_queries.shape"
   ]
  },
  {
   "cell_type": "code",
   "execution_count": 21,
   "metadata": {},
   "outputs": [
    {
     "data": {
      "text/html": [
       "<div>\n",
       "<style scoped>\n",
       "    .dataframe tbody tr th:only-of-type {\n",
       "        vertical-align: middle;\n",
       "    }\n",
       "\n",
       "    .dataframe tbody tr th {\n",
       "        vertical-align: top;\n",
       "    }\n",
       "\n",
       "    .dataframe thead th {\n",
       "        text-align: right;\n",
       "    }\n",
       "</style>\n",
       "<table border=\"1\" class=\"dataframe\">\n",
       "  <thead>\n",
       "    <tr style=\"text-align: right;\">\n",
       "      <th></th>\n",
       "      <th>query_id</th>\n",
       "      <th>query</th>\n",
       "    </tr>\n",
       "  </thead>\n",
       "  <tbody>\n",
       "    <tr>\n",
       "      <th>1190</th>\n",
       "      <td>tweet-sno-1193</td>\n",
       "      <td>You got us, there’s no Eggplant condom! But why no #CondomEmoji? RT if you agree emoji makers should make one! pic.twitter.com/6H6AU6zkJ6 — Durex Global (@durex) September 5, 2016</td>\n",
       "    </tr>\n",
       "    <tr>\n",
       "      <th>1191</th>\n",
       "      <td>tweet-sno-1194</td>\n",
       "      <td>A bit of rain and Eid and the roads run red with blood. #Dhaka #Banglades hpic.twitter.com/7WJRxAj8LN — Edward Rees (@ReesEdward) September 13, 2016</td>\n",
       "    </tr>\n",
       "    <tr>\n",
       "      <th>1192</th>\n",
       "      <td>tweet-sno-1195</td>\n",
       "      <td>@andersoncooper@HillaryClinton why did WABC NY report her death? It's on tapehttps://t.co/hrQHSXmj3W — Beverly Simcic (@BeverlySimcic) September 13, 2016</td>\n",
       "    </tr>\n",
       "    <tr>\n",
       "      <th>1193</th>\n",
       "      <td>tweet-sno-1196</td>\n",
       "      <td>As a medical doctor of course I support vaccinations. I have a problem with the FDA being controlled by drug companies. — Dr. Jill Stein (@DrJillStein) July 29, 2016</td>\n",
       "    </tr>\n",
       "    <tr>\n",
       "      <th>1194</th>\n",
       "      <td>tweet-sno-1197</td>\n",
       "      <td>Is Chanel No.5 being discontinued?! https://t.co/VfXF5UuBaRpic.twitter.com/TAvrUC84wR — Marie Claire (@marieclaireuk) December 5, 2016</td>\n",
       "    </tr>\n",
       "  </tbody>\n",
       "</table>\n",
       "</div>"
      ],
      "text/plain": [
       "            query_id  \\\n",
       "1190  tweet-sno-1193   \n",
       "1191  tweet-sno-1194   \n",
       "1192  tweet-sno-1195   \n",
       "1193  tweet-sno-1196   \n",
       "1194  tweet-sno-1197   \n",
       "\n",
       "                                                                                                                                                                                    query  \n",
       "1190  You got us, there’s no Eggplant condom! But why no #CondomEmoji? RT if you agree emoji makers should make one! pic.twitter.com/6H6AU6zkJ6 — Durex Global (@durex) September 5, 2016  \n",
       "1191                                 A bit of rain and Eid and the roads run red with blood. #Dhaka #Banglades hpic.twitter.com/7WJRxAj8LN — Edward Rees (@ReesEdward) September 13, 2016  \n",
       "1192                            @andersoncooper@HillaryClinton why did WABC NY report her death? It's on tapehttps://t.co/hrQHSXmj3W — Beverly Simcic (@BeverlySimcic) September 13, 2016  \n",
       "1193                As a medical doctor of course I support vaccinations. I have a problem with the FDA being controlled by drug companies. — Dr. Jill Stein (@DrJillStein) July 29, 2016  \n",
       "1194                                               Is Chanel No.5 being discontinued?! https://t.co/VfXF5UuBaRpic.twitter.com/TAvrUC84wR — Marie Claire (@marieclaireuk) December 5, 2016  "
      ]
     },
     "execution_count": 21,
     "metadata": {},
     "output_type": "execute_result"
    }
   ],
   "source": [
    "check_that_dev_queries.tail()"
   ]
  },
  {
   "cell_type": "code",
   "execution_count": 22,
   "metadata": {},
   "outputs": [
    {
     "data": {
      "text/html": [
       "<div>\n",
       "<style scoped>\n",
       "    .dataframe tbody tr th:only-of-type {\n",
       "        vertical-align: middle;\n",
       "    }\n",
       "\n",
       "    .dataframe tbody tr th {\n",
       "        vertical-align: top;\n",
       "    }\n",
       "\n",
       "    .dataframe thead th {\n",
       "        text-align: right;\n",
       "    }\n",
       "</style>\n",
       "<table border=\"1\" class=\"dataframe\">\n",
       "  <thead>\n",
       "    <tr style=\"text-align: right;\">\n",
       "      <th></th>\n",
       "      <th>query_id</th>\n",
       "      <th>query</th>\n",
       "    </tr>\n",
       "  </thead>\n",
       "  <tbody>\n",
       "    <tr>\n",
       "      <th>1190</th>\n",
       "      <td>tweet-sno-1193</td>\n",
       "      <td>You got us, there’s no Eggplant condom! But why no #CondomEmoji? RT if you agree emoji makers should make one! pic.twitter.com/6H6AU6zkJ6 — Durex Global (@durex) September 5, 2016</td>\n",
       "    </tr>\n",
       "    <tr>\n",
       "      <th>1191</th>\n",
       "      <td>tweet-sno-1194</td>\n",
       "      <td>A bit of rain and Eid and the roads run red with blood. #Dhaka #Banglades hpic.twitter.com/7WJRxAj8LN — Edward Rees (@ReesEdward) September 13, 2016</td>\n",
       "    </tr>\n",
       "    <tr>\n",
       "      <th>1192</th>\n",
       "      <td>tweet-sno-1195</td>\n",
       "      <td>@andersoncooper@HillaryClinton why did WABC NY report her death? It's on tapehttps://t.co/hrQHSXmj3W — Beverly Simcic (@BeverlySimcic) September 13, 2016</td>\n",
       "    </tr>\n",
       "    <tr>\n",
       "      <th>1193</th>\n",
       "      <td>tweet-sno-1196</td>\n",
       "      <td>As a medical doctor of course I support vaccinations. I have a problem with the FDA being controlled by drug companies. — Dr. Jill Stein (@DrJillStein) July 29, 2016</td>\n",
       "    </tr>\n",
       "    <tr>\n",
       "      <th>1194</th>\n",
       "      <td>tweet-sno-1197</td>\n",
       "      <td>Is Chanel No.5 being discontinued?! https://t.co/VfXF5UuBaRpic.twitter.com/TAvrUC84wR — Marie Claire (@marieclaireuk) December 5, 2016</td>\n",
       "    </tr>\n",
       "  </tbody>\n",
       "</table>\n",
       "</div>"
      ],
      "text/plain": [
       "            query_id  \\\n",
       "1190  tweet-sno-1193   \n",
       "1191  tweet-sno-1194   \n",
       "1192  tweet-sno-1195   \n",
       "1193  tweet-sno-1196   \n",
       "1194  tweet-sno-1197   \n",
       "\n",
       "                                                                                                                                                                                    query  \n",
       "1190  You got us, there’s no Eggplant condom! But why no #CondomEmoji? RT if you agree emoji makers should make one! pic.twitter.com/6H6AU6zkJ6 — Durex Global (@durex) September 5, 2016  \n",
       "1191                                 A bit of rain and Eid and the roads run red with blood. #Dhaka #Banglades hpic.twitter.com/7WJRxAj8LN — Edward Rees (@ReesEdward) September 13, 2016  \n",
       "1192                            @andersoncooper@HillaryClinton why did WABC NY report her death? It's on tapehttps://t.co/hrQHSXmj3W — Beverly Simcic (@BeverlySimcic) September 13, 2016  \n",
       "1193                As a medical doctor of course I support vaccinations. I have a problem with the FDA being controlled by drug companies. — Dr. Jill Stein (@DrJillStein) July 29, 2016  \n",
       "1194                                               Is Chanel No.5 being discontinued?! https://t.co/VfXF5UuBaRpic.twitter.com/TAvrUC84wR — Marie Claire (@marieclaireuk) December 5, 2016  "
      ]
     },
     "execution_count": 22,
     "metadata": {},
     "output_type": "execute_result"
    }
   ],
   "source": [
    "check_that_train_queries.tail()"
   ]
  },
  {
   "cell_type": "code",
   "execution_count": 23,
   "metadata": {},
   "outputs": [],
   "source": [
    "# The dataframes seem equal with similar entries \n",
    "fact_check_data = utils.load_data(dataset=factcheck_dataset_str)\n",
    "fact_check_train_queries = fact_check_data['queries'][0]\n",
    "fact_check_dev_queries = fact_check_data['queries'][1]"
   ]
  },
  {
   "cell_type": "code",
   "execution_count": 24,
   "metadata": {},
   "outputs": [
    {
     "data": {
      "text/plain": [
       "((2504, 2), (537, 2))"
      ]
     },
     "execution_count": 24,
     "metadata": {},
     "output_type": "execute_result"
    }
   ],
   "source": [
    "fact_check_train_queries.shape, fact_check_dev_queries.shape"
   ]
  },
  {
   "cell_type": "code",
   "execution_count": 26,
   "metadata": {},
   "outputs": [
    {
     "data": {
      "text/html": [
       "<div>\n",
       "<style scoped>\n",
       "    .dataframe tbody tr th:only-of-type {\n",
       "        vertical-align: middle;\n",
       "    }\n",
       "\n",
       "    .dataframe tbody tr th {\n",
       "        vertical-align: top;\n",
       "    }\n",
       "\n",
       "    .dataframe thead th {\n",
       "        text-align: right;\n",
       "    }\n",
       "</style>\n",
       "<table border=\"1\" class=\"dataframe\">\n",
       "  <thead>\n",
       "    <tr style=\"text-align: right;\">\n",
       "      <th></th>\n",
       "      <th>query_id</th>\n",
       "      <th>query</th>\n",
       "    </tr>\n",
       "  </thead>\n",
       "  <tbody>\n",
       "    <tr>\n",
       "      <th>2499</th>\n",
       "      <td>1.225177e+18</td>\n",
       "      <td>Madison and Washington were right.\\n\\nThere's no greater subversion of our democracy than for powers outside our borders to determine elections within\\n\\nFor an American president to deliberately solicit such a thing—blackmail a foreign country to help win an election—is unforgivable https://t.co/uOsBKO4pI6</td>\n",
       "    </tr>\n",
       "    <tr>\n",
       "      <th>2500</th>\n",
       "      <td>1.240788e+18</td>\n",
       "      <td>Military equipment spotted being moved into Chicago... \\n\\nPrepare for complete lockdown soon. #StayHome  \\n#CoronaVirusUpdate #CoronaVirus https://t.co/Tcf9woXIKx</td>\n",
       "    </tr>\n",
       "    <tr>\n",
       "      <th>2501</th>\n",
       "      <td>1.215250e+18</td>\n",
       "      <td>Challenging BJP’s peace rally in Dhemaji yesterday, Jatiya Sangathans organised another rally in Dhemaji today. A sea of people spontaneously participated in the rally #CAAProtests https://t.co/ekc68s4AsT</td>\n",
       "    </tr>\n",
       "    <tr>\n",
       "      <th>2502</th>\n",
       "      <td>1.239693e+18</td>\n",
       "      <td>The Red Cross does not provide #Coronavirus testing. If someone comes to your home claiming to do so, do not open the door. Get to safety and notify police immediately. https://t.co/VfQ9IwNL4E</td>\n",
       "    </tr>\n",
       "    <tr>\n",
       "      <th>2503</th>\n",
       "      <td>1.100259e+18</td>\n",
       "      <td>Supreme Court banned Pataki on Deepawali but Indian army celebratedit in a majestic way. #Surgicalstrike2 https://t.co/zEaR5Op6dS</td>\n",
       "    </tr>\n",
       "  </tbody>\n",
       "</table>\n",
       "</div>"
      ],
      "text/plain": [
       "          query_id  \\\n",
       "2499  1.225177e+18   \n",
       "2500  1.240788e+18   \n",
       "2501  1.215250e+18   \n",
       "2502  1.239693e+18   \n",
       "2503  1.100259e+18   \n",
       "\n",
       "                                                                                                                                                                                                                                                                                                                     query  \n",
       "2499  Madison and Washington were right.\\n\\nThere's no greater subversion of our democracy than for powers outside our borders to determine elections within\\n\\nFor an American president to deliberately solicit such a thing—blackmail a foreign country to help win an election—is unforgivable https://t.co/uOsBKO4pI6  \n",
       "2500                                                                                                                                                   Military equipment spotted being moved into Chicago... \\n\\nPrepare for complete lockdown soon. #StayHome  \\n#CoronaVirusUpdate #CoronaVirus https://t.co/Tcf9woXIKx  \n",
       "2501                                                                                                          Challenging BJP’s peace rally in Dhemaji yesterday, Jatiya Sangathans organised another rally in Dhemaji today. A sea of people spontaneously participated in the rally #CAAProtests https://t.co/ekc68s4AsT  \n",
       "2502                                                                                                                      The Red Cross does not provide #Coronavirus testing. If someone comes to your home claiming to do so, do not open the door. Get to safety and notify police immediately. https://t.co/VfQ9IwNL4E  \n",
       "2503                                                                                                                                                                                     Supreme Court banned Pataki on Deepawali but Indian army celebratedit in a majestic way. #Surgicalstrike2 https://t.co/zEaR5Op6dS  "
      ]
     },
     "execution_count": 26,
     "metadata": {},
     "output_type": "execute_result"
    }
   ],
   "source": [
    "fact_check_train_queries.tail()"
   ]
  },
  {
   "cell_type": "code",
   "execution_count": 27,
   "metadata": {},
   "outputs": [
    {
     "data": {
      "text/html": [
       "<div>\n",
       "<style scoped>\n",
       "    .dataframe tbody tr th:only-of-type {\n",
       "        vertical-align: middle;\n",
       "    }\n",
       "\n",
       "    .dataframe tbody tr th {\n",
       "        vertical-align: top;\n",
       "    }\n",
       "\n",
       "    .dataframe thead th {\n",
       "        text-align: right;\n",
       "    }\n",
       "</style>\n",
       "<table border=\"1\" class=\"dataframe\">\n",
       "  <thead>\n",
       "    <tr style=\"text-align: right;\">\n",
       "      <th></th>\n",
       "      <th>query_id</th>\n",
       "      <th>query</th>\n",
       "    </tr>\n",
       "  </thead>\n",
       "  <tbody>\n",
       "    <tr>\n",
       "      <th>0</th>\n",
       "      <td>4.206656e+17</td>\n",
       "      <td>Texas has added more than 6,600 new highway miles from 2001 – 2012, more than any other state over that time. #TxTransForum</td>\n",
       "    </tr>\n",
       "    <tr>\n",
       "      <th>1</th>\n",
       "      <td>1.276221e+18</td>\n",
       "      <td>WHAT IS GOING ON WITH JOE BIDEN?\\n\\nJoe Biden just said, \"Now we have OVER 120 MILLION dead from COVID.\" https://t.co/QBQTDyzzZt</td>\n",
       "    </tr>\n",
       "    <tr>\n",
       "      <th>2</th>\n",
       "      <td>1.260224e+18</td>\n",
       "      <td>@GovEvers liquor stores are open, strip malls can have 5 customers, but dentists are non-essential?! @VickiMcKenna @EmpowerWi #wiright</td>\n",
       "    </tr>\n",
       "    <tr>\n",
       "      <th>3</th>\n",
       "      <td>1.225516e+18</td>\n",
       "      <td>This Islamophobic tweet by a fake account has 600 RTs. It's viral on WhatsApp. When I did a reverse image search. I found these pic posted FB page on Jan 31st with an Urdu caption. \\nTranslation : Today was my son's Khatam Al Quran (completing the recital/reading of the Quran) 1/3 https://t.co/gY8CYcc0AZ https://t.co/fJVgdcvmTA</td>\n",
       "    </tr>\n",
       "    <tr>\n",
       "      <th>4</th>\n",
       "      <td>1.355336e+18</td>\n",
       "      <td>Must watch this video👇\\nTruth behind the Riots.\\nThey are RSS goons who were in Police uniforms.\\nEven Police knowing this not taking any Action and Godi media are Silent.\\n\\nShame on them\\n\\n#GodiMediaStopMisleading \\n#Homeminister_should_resign https://t.co/KfGvpH31CQ</td>\n",
       "    </tr>\n",
       "  </tbody>\n",
       "</table>\n",
       "</div>"
      ],
      "text/plain": [
       "       query_id  \\\n",
       "0  4.206656e+17   \n",
       "1  1.276221e+18   \n",
       "2  1.260224e+18   \n",
       "3  1.225516e+18   \n",
       "4  1.355336e+18   \n",
       "\n",
       "                                                                                                                                                                                                                                                                                                                                       query  \n",
       "0                                                                                                                                                                                                                Texas has added more than 6,600 new highway miles from 2001 – 2012, more than any other state over that time. #TxTransForum  \n",
       "1                                                                                                                                                                                                           WHAT IS GOING ON WITH JOE BIDEN?\\n\\nJoe Biden just said, \"Now we have OVER 120 MILLION dead from COVID.\" https://t.co/QBQTDyzzZt  \n",
       "2                                                                                                                                                                                                     @GovEvers liquor stores are open, strip malls can have 5 customers, but dentists are non-essential?! @VickiMcKenna @EmpowerWi #wiright  \n",
       "3  This Islamophobic tweet by a fake account has 600 RTs. It's viral on WhatsApp. When I did a reverse image search. I found these pic posted FB page on Jan 31st with an Urdu caption. \\nTranslation : Today was my son's Khatam Al Quran (completing the recital/reading of the Quran) 1/3 https://t.co/gY8CYcc0AZ https://t.co/fJVgdcvmTA  \n",
       "4                                                             Must watch this video👇\\nTruth behind the Riots.\\nThey are RSS goons who were in Police uniforms.\\nEven Police knowing this not taking any Action and Godi media are Silent.\\n\\nShame on them\\n\\n#GodiMediaStopMisleading \\n#Homeminister_should_resign https://t.co/KfGvpH31CQ  "
      ]
     },
     "execution_count": 27,
     "metadata": {},
     "output_type": "execute_result"
    }
   ],
   "source": [
    "fact_check_dev_queries.head()"
   ]
  },
  {
   "cell_type": "code",
   "execution_count": 30,
   "metadata": {},
   "outputs": [
    {
     "data": {
      "text/plain": [
       "1195"
      ]
     },
     "execution_count": 30,
     "metadata": {},
     "output_type": "execute_result"
    }
   ],
   "source": [
    "# How many unique tweets are there in the check that dataset\n",
    "df = check_that_train_queries['query'].unique()\n",
    "len(df)"
   ]
  },
  {
   "cell_type": "code",
   "execution_count": 31,
   "metadata": {},
   "outputs": [
    {
     "data": {
      "text/plain": [
       "2503"
      ]
     },
     "execution_count": 31,
     "metadata": {},
     "output_type": "execute_result"
    }
   ],
   "source": [
    "df = fact_check_train_queries['query'].unique()\n",
    "len(df)"
   ]
  },
  {
   "cell_type": "code",
   "execution_count": 32,
   "metadata": {},
   "outputs": [
    {
     "data": {
      "text/plain": [
       "537"
      ]
     },
     "execution_count": 32,
     "metadata": {},
     "output_type": "execute_result"
    }
   ],
   "source": [
    "df = fact_check_dev_queries['query'].unique()   \n",
    "len(df)"
   ]
  },
  {
   "cell_type": "code",
   "execution_count": 33,
   "metadata": {},
   "outputs": [
    {
     "data": {
      "text/plain": [
       "4235"
      ]
     },
     "execution_count": 33,
     "metadata": {},
     "output_type": "execute_result"
    }
   ],
   "source": [
    "1195 + 2503 + 537"
   ]
  },
  {
   "cell_type": "code",
   "execution_count": 35,
   "metadata": {},
   "outputs": [],
   "source": [
    "import json\n",
    "\n",
    "input_file = \"/home/kebl7383/claim-matching-robustness/experiments/negation/gpt4o/clef2021-checkthat-task2a--english/train_worstcase_negation.jsonl\"\n",
    "output_file = \"/home/kebl7383/claim-matching-robustness/experiments/negation/gpt4o/clef2021-checkthat-task2a--english/train_worstcase_negation.jsonl\"\n",
    "\n",
    "with open(input_file, \"r\") as infile, open(output_file, \"w\") as outfile:\n",
    "    for line in infile:\n",
    "        try:\n",
    "            # Load JSON object\n",
    "            obj = json.loads(line)\n",
    "            \n",
    "            # Fix multiline strings by escaping newline characters\n",
    "            for key in obj:\n",
    "                if isinstance(obj[key], str):\n",
    "                    obj[key] = obj[key].replace(\"\\n\", \"\\\\n\")\n",
    "            \n",
    "            # Write fixed JSON object back to file\n",
    "            outfile.write(json.dumps(obj) + \"\\n\")\n",
    "        except json.JSONDecodeError as e:\n",
    "            print(f\"Error decoding JSON line: {line}\")\n",
    "            print(\"Error details:\", e)\n"
   ]
  },
  {
   "cell_type": "code",
   "execution_count": 37,
   "metadata": {},
   "outputs": [
    {
     "ename": "ValueError",
     "evalue": "I/O operation on closed file.",
     "output_type": "error",
     "traceback": [
      "\u001b[0;31m---------------------------------------------------------------------------\u001b[0m",
      "\u001b[0;31mValueError\u001b[0m                                Traceback (most recent call last)",
      "Cell \u001b[0;32mIn[37], line 1\u001b[0m\n\u001b[0;32m----> 1\u001b[0m \u001b[38;5;28;43;01mfor\u001b[39;49;00m\u001b[43m \u001b[49m\u001b[43mline\u001b[49m\u001b[43m \u001b[49m\u001b[38;5;129;43;01min\u001b[39;49;00m\u001b[43m \u001b[49m\u001b[43minfile\u001b[49m\u001b[43m:\u001b[49m\n\u001b[1;32m      2\u001b[0m \u001b[43m    \u001b[49m\u001b[38;5;66;43;03m# Load JSON object\u001b[39;49;00m\n\u001b[1;32m      3\u001b[0m \u001b[43m    \u001b[49m\u001b[43mobj\u001b[49m\u001b[43m \u001b[49m\u001b[38;5;241;43m=\u001b[39;49m\u001b[43m \u001b[49m\u001b[43mjson\u001b[49m\u001b[38;5;241;43m.\u001b[39;49m\u001b[43mloads\u001b[49m\u001b[43m(\u001b[49m\u001b[43mline\u001b[49m\u001b[43m)\u001b[49m\n\u001b[1;32m      4\u001b[0m \u001b[43m    \u001b[49m\u001b[43moutfile\u001b[49m\u001b[38;5;241;43m.\u001b[39;49m\u001b[43mwrite\u001b[49m\u001b[43m(\u001b[49m\u001b[43mjson\u001b[49m\u001b[38;5;241;43m.\u001b[39;49m\u001b[43mdumps\u001b[49m\u001b[43m(\u001b[49m\u001b[43mobj\u001b[49m\u001b[43m)\u001b[49m\u001b[43m \u001b[49m\u001b[38;5;241;43m+\u001b[39;49m\u001b[43m \u001b[49m\u001b[38;5;124;43m\"\u001b[39;49m\u001b[38;5;130;43;01m\\n\u001b[39;49;00m\u001b[38;5;124;43m\"\u001b[39;49m\u001b[43m)\u001b[49m\n",
      "\u001b[0;31mValueError\u001b[0m: I/O operation on closed file."
     ]
    }
   ],
   "source": [
    "for line in infile:\n",
    "    # Load JSON object\n",
    "    obj = json.loads(line)\n",
    "    outfile.write(json.dumps(obj) + \"\\n\")"
   ]
  },
  {
   "cell_type": "code",
   "execution_count": null,
   "metadata": {},
   "outputs": [],
   "source": []
  }
 ],
 "metadata": {
  "kernelspec": {
   "display_name": "Python 3",
   "language": "python",
   "name": "python3"
  },
  "language_info": {
   "codemirror_mode": {
    "name": "ipython",
    "version": 3
   },
   "file_extension": ".py",
   "mimetype": "text/x-python",
   "name": "python",
   "nbconvert_exporter": "python",
   "pygments_lexer": "ipython3",
   "version": "3.13.1"
  }
 },
 "nbformat": 4,
 "nbformat_minor": 2
}
